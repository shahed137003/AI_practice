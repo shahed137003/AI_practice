{
 "cells": [
  {
   "cell_type": "markdown",
   "id": "483b8a6a",
   "metadata": {},
   "source": [
    "## creating the required DataSet"
   ]
  },
  {
   "cell_type": "code",
   "execution_count": 14,
   "id": "79a5cd02",
   "metadata": {},
   "outputs": [],
   "source": [
    "import cv2 as cv \n",
    "import time \n",
    "import os \n"
   ]
  },
  {
   "cell_type": "code",
   "execution_count": 18,
   "id": "339de696",
   "metadata": {},
   "outputs": [],
   "source": [
    "labels=['thumbsup','thumbsdown','thankyou','livelong']\n"
   ]
  },
  {
   "cell_type": "code",
   "execution_count": 3,
   "id": "d0c7ba9f",
   "metadata": {},
   "outputs": [
    {
     "data": {
      "text/plain": [
       "'Detection\\\\Samples'"
      ]
     },
     "execution_count": 3,
     "metadata": {},
     "output_type": "execute_result"
    }
   ],
   "source": [
    "IMAGESPATH=os.path.join('Detection','Samples')\n",
    "IMAGESPATH"
   ]
  },
  {
   "cell_type": "code",
   "execution_count": 11,
   "id": "9566a97a",
   "metadata": {},
   "outputs": [],
   "source": [
    "## capturing the data that we will feed to the model \n",
    "image_num=5\n",
    "# Import uuid\n",
    "import uuid\n",
    "for label in labels:\n",
    "    time.sleep(5)\n",
    "    cap=cv.VideoCapture(0)  # this will connect to webcamp \n",
    "    for image in range(image_num):\n",
    "        isTrue,image=cap.read()\n",
    "        imgname = os.path.join(IMAGESPATH,label,label+'.'+'{}.jpg'.format(str(uuid.uuid1())))  ## creating the name of image path \n",
    "        cv.imwrite(imgname, image)\n",
    "        cv.imshow('frame', image)\n",
    "        time.sleep(2)\n",
    "\n",
    "        if cv.waitKey(1) & 0xFF == ord('q'):\n",
    "            break\n",
    "cap.release()\n",
    "cv.destroyAllWindows()"
   ]
  },
  {
   "cell_type": "code",
   "execution_count": 12,
   "id": "9d10ba4d",
   "metadata": {},
   "outputs": [
    {
     "data": {
      "text/plain": [
       "'Detection\\\\labels'"
      ]
     },
     "execution_count": 12,
     "metadata": {},
     "output_type": "execute_result"
    }
   ],
   "source": [
    "LABELSPATH=os.path.join('Detection','labels')\n",
    "LABELSPATH"
   ]
  },
  {
   "cell_type": "code",
   "execution_count": 16,
   "id": "115f230a",
   "metadata": {},
   "outputs": [],
   "source": [
    "os.makedirs(LABELSPATH)"
   ]
  },
  {
   "cell_type": "code",
   "execution_count": 20,
   "id": "6274e8ed",
   "metadata": {},
   "outputs": [],
   "source": [
    "for label in labels:\n",
    "    os.makedirs(os.path.join(LABELSPATH,label))"
   ]
  }
 ],
 "metadata": {
  "kernelspec": {
   "display_name": "ML_inv",
   "language": "python",
   "name": "python3"
  },
  "language_info": {
   "codemirror_mode": {
    "name": "ipython",
    "version": 3
   },
   "file_extension": ".py",
   "mimetype": "text/x-python",
   "name": "python",
   "nbconvert_exporter": "python",
   "pygments_lexer": "ipython3",
   "version": "3.12.11"
  }
 },
 "nbformat": 4,
 "nbformat_minor": 5
}
